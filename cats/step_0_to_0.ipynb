{
 "cells": [
  {
   "cell_type": "markdown",
   "metadata": {},
   "source": [
    "Step 0 - Let's Get Started With Data Science, World!\n",
    "=================="
   ]
  },
  {
   "cell_type": "markdown",
   "metadata": {},
   "source": [
    "**Author(s):** kozyr@google.com\n",
    "\n",
    "**Reviewer(s):** nrh@google.com\n",
    "\n"
   ]
  },
  {
   "cell_type": "markdown",
   "metadata": {},
   "source": [
    "It's a beautiful day and we can do all kinds of pretty things.  Here are some little examples to get you started."
   ]
  },
  {
   "cell_type": "markdown",
   "metadata": {},
   "source": [
    "## Print: ...something"
   ]
  },
  {
   "cell_type": "code",
   "execution_count": 0,
   "metadata": {},
   "outputs": [],
   "source": [
    "print('Hello world!')"
   ]
  },
  {
   "cell_type": "markdown",
   "metadata": {},
   "source": [
    "## Numpy: make some noise!\n",
    "\n",
    "```numpy``` is the essential package for working with numbers.  Simulate some noise and make a straight line."
   ]
  },
  {
   "cell_type": "code",
   "execution_count": 0,
   "metadata": {},
   "outputs": [],
   "source": [
    "import numpy as np\n",
    "n = 20\n",
    "intercept = -10\n",
    "slope = 5\n",
    "noise = 10\n",
    "error = np.random.normal(0, noise, 20)\n",
    "x = np.array(range(n))\n",
    "y = intercept + slope * x + error\n",
    "\n",
    "print(x)\n",
    "print(np.round(y, 2))"
   ]
  },
  {
   "cell_type": "markdown",
   "metadata": {},
   "source": []
  },
  {
   "cell_type": "markdown",
   "metadata": {},
   "source": [
    "## Pandas: not just for chewing bamboo\n",
    "\n",
    "```pandas``` is the essential package for working with dataframes.  Make a convenient dataframe for using our feature to predict our label."
   ]
  },
  {
   "cell_type": "code",
   "execution_count": 0,
   "metadata": {},
   "outputs": [],
   "source": [
    "import pandas as pd\n",
    "df = pd.DataFrame({'feature': x, 'label': y})\n",
    "print(df)"
   ]
  },
  {
   "cell_type": "markdown",
   "metadata": {},
   "source": [
    "## Seaborn: pretty plotting\n",
    "\n",
    "A picture is worth a thousand numbers.  ```seaborn``` puts some glamour in your plotting style."
   ]
  },
  {
   "cell_type": "code",
   "execution_count": 0,
   "metadata": {},
   "outputs": [],
   "source": [
    "import seaborn as sns\n",
    "%matplotlib inline\n",
    "sns.regplot(x='feature', y='label', data=df)"
   ]
  },
  {
   "cell_type": "code",
   "execution_count": 0,
   "metadata": {},
   "outputs": [],
   "source": [
    "%matplotlib inline\n",
    "sns.distplot(error, axlabel='residuals')"
   ]
  },
  {
   "cell_type": "code",
   "execution_count": 0,
   "metadata": {},
   "outputs": [],
   "source": [
    "%matplotlib inline\n",
    "sns.jointplot(x='feature', y='label', data=df)"
   ]
  },
  {
   "cell_type": "markdown",
   "metadata": {},
   "source": [
    "# TensorFlow: built for speed\n",
    "\n",
    "```tensorflow``` is the essential package for training neural networks efficiently at scale.  In order to be efficient at scale, it only runs when it's required to.  Let's ask it to greet us..."
   ]
  },
  {
   "cell_type": "code",
   "execution_count": 0,
   "metadata": {},
   "outputs": [],
   "source": [
    "import tensorflow as tf\n",
    "\n",
    "c = tf.constant('Hello, world!')\n",
    "\n",
    "with tf.Session() as sess:\n",
    "\n",
    "  print sess.run(c)"
   ]
  },
  {
   "cell_type": "markdown",
   "metadata": {},
   "source": [
    "Finally, let's greet our tensorflow supported devices! Say hello to our CPU, and our GPU if we invited it to the party!"
   ]
  },
  {
   "cell_type": "code",
   "execution_count": 0,
   "metadata": {},
   "outputs": [],
   "source": [
    "from tensorflow.python.client import device_lib\n",
    "\n",
    "def get_devices():\n",
    "  devices = device_lib.list_local_devices()\n",
    "  return [x.name for x in devices]\n",
    "\n",
    "print(get_devices())"
   ]
  }
 ],
 "metadata": {
  "kernelspec": {
   "display_name": "Python 2",
   "language": "python",
   "name": "python2"
  }
 },
 "nbformat": 4,
 "nbformat_minor": 1
}
