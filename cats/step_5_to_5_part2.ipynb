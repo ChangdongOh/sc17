{
 "cells": [
  {
   "cell_type": "markdown",
   "metadata": {},
   "source": [
    "# Step 5 - Keras Demo Notebook\n",
    "\n",
    "This is a notebook for training a simple Keras model to learn the XOR function."
   ]
  },
  {
   "cell_type": "markdown",
   "metadata": {},
   "source": [
    "**Author(s):** ronbodkin@google.com\n",
    "\n",
    "**Reviewer(s):** bfoo@google.com"
   ]
  },
  {
   "cell_type": "markdown",
   "metadata": {},
   "source": [
    "# Preamble\n",
    "\n",
    "Import tensorflow, check the version, and install and import keras."
   ]
  },
  {
   "cell_type": "code",
   "execution_count": 0,
   "metadata": {},
   "outputs": [],
   "source": [
    "import numpy as np\n",
    "import tensorflow as tf"
   ]
  },
  {
   "cell_type": "code",
   "execution_count": 0,
   "metadata": {},
   "outputs": [],
   "source": [
    "# What version of TensorFlow are we using?\n",
    "print(tf.__version__)"
   ]
  },
  {
   "cell_type": "code",
   "execution_count": 0,
   "metadata": {},
   "outputs": [],
   "source": [
    "# Add keras to runtime - keras is a higher-level API for neural networks\n",
    "# We will use it to program TensorFlow\n",
    "!pip install keras"
   ]
  },
  {
   "cell_type": "code",
   "execution_count": 0,
   "metadata": {},
   "outputs": [],
   "source": [
    "# Import Keras and basic types of NN layers we will use\n",
    "import keras\n",
    "from keras.models import Sequential\n",
    "from keras.layers import Dense, Activation\n",
    "import keras.utils as np_utils"
   ]
  },
  {
   "cell_type": "markdown",
   "metadata": {},
   "source": [
    "# Network and training parameters\n",
    "\n",
    "* n_outputs: length of input and output training samples, as vectors of 0's and 1's.\n",
    "Since we are learning XOR, the input and output lengths are equal.\n",
    "* n_hidden_units: the number of hidden units for each layer\n",
    "* n_obs: the number of training samples/observations used to train the network.\n",
    "These samples will be randomly generated prior to training.\n",
    "* learning_rate: how quickly to adapt weights in the neural network.\n"
   ]
  },
  {
   "cell_type": "code",
   "execution_count": 0,
   "metadata": {},
   "outputs": [],
   "source": [
    "# Set up the data and network:\n",
    "n_outputs = 5 # Length of input and output training samples\n",
    "n_hidden_units = 10  # Number of hidden units in each hidden layer\n",
    "n_obs = 500  # How many samples/observations will we use for learning?\n",
    "learning_rate = 0.1 # How quickly do we adapt weights in the neural network?"
   ]
  },
  {
   "cell_type": "markdown",
   "metadata": {},
   "source": [
    "# Generate Training Data\n",
    "\n",
    "..."
   ]
  },
  {
   "cell_type": "code",
   "execution_count": 0,
   "metadata": {},
   "outputs": [],
   "source": [
    "# Set random seed so that the exercise works out the same way for everyone:\n",
    "np.random.seed(42)\n",
    "\n",
    "# Create the inputs:\n",
    "training_vectors = np.random.binomial(\n",
    "  1, 0.5, (n_obs, n_outputs))  # Each row is one instance to learn from.\n",
    "print('Task Example:')\n",
    "print('One instance with ' + str(n_outputs) + ' features: ' + str(training_vectors[0]))\n",
    "\n",
    "# Create the correct XOR outputs (t is for target):\n",
    "xor_training_vectors = training_vectors ^ 1  # This is just XOR, everything is deterministic.\n",
    "#t = np_utils.to_categorical(t, 2)\n",
    "print('Correct label (simply XOR):    ' + str(xor_training_vectors[0]))"
   ]
  },
  {
   "cell_type": "markdown",
   "metadata": {},
   "source": [
    "# Build the Neural Network"
   ]
  },
  {
   "cell_type": "code",
   "execution_count": 0,
   "metadata": {},
   "outputs": [],
   "source": [
    "# Import Keras and basic types of NN layers we will use\n",
    "import keras\n",
    "from keras.models import Sequential\n",
    "from keras.layers import Dense, Activation\n",
    "\n",
    "# 2 layer model with ReLU for hidden layer, sigmoid for output layer\n",
    "# uncomment the 2 lines below to try a 3 layer model with two hidden layers\n",
    "model = Sequential()\n",
    "model.add(Dense(units=n_hidden_units, input_dim=n_outputs))\n",
    "model.add(Activation('relu'))\n",
    "#model.add(Dense(units=n_hidden_units))\n",
    "#model.add(Activation('sigmoid'))\n",
    "model.add(Dense(units=n_outputs))\n",
    "model.add(Activation('sigmoid'))"
   ]
  },
  {
   "cell_type": "code",
   "execution_count": 0,
   "metadata": {},
   "outputs": [],
   "source": [
    "# set up model using binary cross entropy loss with SGD learning at learning rate\n",
    "model.compile(loss='binary_crossentropy',\n",
    "              optimizer=keras.optimizers.SGD(lr=learning_rate),\n",
    "              metrics=['accuracy'])"
   ]
  },
  {
   "cell_type": "code",
   "execution_count": 0,
   "metadata": {},
   "outputs": [],
   "source": [
    "# set up model using binary cross entropy loss with SGD learning at learning rate for 30 epochs\n",
    "model.fit(training_vectors, xor_training_vectors, epochs=30)"
   ]
  },
  {
   "cell_type": "code",
   "execution_count": 0,
   "metadata": {},
   "outputs": [],
   "source": [
    "# Simple loss function to demonstrate values from Keras model, most of the work is hidden/built in to Keras\n",
    "def loss(prediction, truth):\n",
    "  return -np.mean(truth * np.log(prediction) + (1 - truth) * np.log(1 - prediction))\n",
    "\n",
    "# Print performance to screen:\n",
    "def get_performance(n_valid):\n",
    "  \"\"\"Prints performance of nnet on desired number of new random examples.\n",
    "\n",
    "  Args:\n",
    "    n_valid: number of validation examples to generate.\n",
    "    w1: first set of weights mapping the input to layer 1.\n",
    "    w2: second set of weights mapping layer 1 to layer 2.\n",
    "  \n",
    "  Returns:\n",
    "    None\n",
    "  \"\"\"\n",
    "  tracker = []\n",
    "  inputs = np.random.binomial(1, 0.5, (n_valid, n_outputs))\n",
    "  truths = inputs ^ 1\n",
    "\n",
    "  loss_and_metrics = model.evaluate(inputs, truths, batch_size=n_valid)\n",
    "  print(loss_and_metrics)\n",
    "  \n",
    "  for example in range(3):\n",
    "    labels = model.predict(np.reshape(inputs[example], (1,-1)), 1)\n",
    "    print('********')\n",
    "    print('Challenge ' + str(example + 1) + ': ' + str(inputs[example]))\n",
    "    print('Predicted ' + str(example + 1) + ': ' + str(labels))\n",
    "    print('Correct   ' + str(example + 1) + ': ' + str(truths[example]))\n",
    "    print(loss(labels, truths[example]))\n",
    "\n",
    "get_performance(500)"
   ]
  }
 ],
 "metadata": {
  "kernelspec": {
   "display_name": "Python 2",
   "language": "python",
   "name": "python2"
  }
 },
 "nbformat": 4,
 "nbformat_minor": 1
}
